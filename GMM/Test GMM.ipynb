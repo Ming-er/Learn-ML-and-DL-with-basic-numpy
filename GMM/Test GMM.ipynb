{
 "cells": [
  {
   "cell_type": "markdown",
   "metadata": {},
   "source": [
    "# 对GMM模型进行验证"
   ]
  },
  {
   "cell_type": "code",
   "execution_count": 1,
   "metadata": {},
   "outputs": [],
   "source": [
    "import numpy as np\n",
    "import matplotlib.pyplot as plt\n",
    "import GMM as _G"
   ]
  },
  {
   "cell_type": "markdown",
   "metadata": {},
   "source": [
    "假设存在一个如下的实例：\n",
    "统计得到某地一定数量男生与女生的身高和体重信息（可以假设它们分别满足正态分布），\n",
    "但由于某种原因误将男女混合在了一起，现希望利用GMM拟合混合数据"
   ]
  },
  {
   "cell_type": "markdown",
   "metadata": {},
   "source": [
    "### 假定一组参数 "
   ]
  },
  {
   "cell_type": "code",
   "execution_count": 2,
   "metadata": {},
   "outputs": [],
   "source": [
    "girl_num=1500\n",
    "boy_num=1000\n",
    "girl_h_mean=160\n",
    "girl_w_mean=50\n",
    "girl_h_std=4\n",
    "girl_w_std=5\n",
    "boy_h_mean=170\n",
    "boy_w_mean=70\n",
    "boy_h_std=5\n",
    "boy_w_std=4"
   ]
  },
  {
   "cell_type": "markdown",
   "metadata": {},
   "source": [
    "### 用参数生成数据"
   ]
  },
  {
   "cell_type": "code",
   "execution_count": 3,
   "metadata": {},
   "outputs": [],
   "source": [
    "boy_=np.random.normal(size=boy_num*2).reshape(boy_num,2)\n",
    "boy_[:,0]=boy_[:,0]*boy_h_std+boy_h_mean\n",
    "boy_[:,1]=boy_[:,1]*boy_w_std+boy_w_mean\n",
    "girl_=np.random.normal(size=girl_num*2).reshape(girl_num,2)\n",
    "girl_[:,0]=girl_[:,0]*girl_h_std+girl_h_mean\n",
    "girl_[:,1]=girl_[:,1]*girl_w_std+girl_w_mean\n",
    "mixture_=np.append(boy_,girl_,axis=0)"
   ]
  },
  {
   "cell_type": "markdown",
   "metadata": {},
   "source": [
    "### 利用GMM拟合数据"
   ]
  },
  {
   "cell_type": "code",
   "execution_count": 4,
   "metadata": {},
   "outputs": [],
   "source": [
    "gmm=_G.GMM(clu=2)"
   ]
  },
  {
   "cell_type": "code",
   "execution_count": 5,
   "metadata": {},
   "outputs": [
    {
     "name": "stdout",
     "output_type": "stream",
     "text": [
      "1. Lower bound: -1728.1122734203414\n",
      "2. Lower bound: -1692.2000837629346\n",
      "3. Lower bound: -1685.0542730728716\n",
      "4. Lower bound: -1679.2889548699338\n",
      "5. Lower bound: -1673.7040052760997\n",
      "6. Lower bound: -1668.5891059200435\n",
      "7. Lower bound: -1664.3187546745055\n",
      "8. Lower bound: -1660.8917353916413\n",
      "9. Lower bound: -1657.98463503263\n",
      "10. Lower bound: -1655.1180531464759\n",
      "11. Lower bound: -1651.6789871808317\n",
      "12. Lower bound: -1646.9242122835715\n",
      "13. Lower bound: -1640.1546137551024\n",
      "14. Lower bound: -1630.9584867317737\n",
      "15. Lower bound: -1620.9069427617014\n",
      "16. Lower bound: -1615.2108411407075\n",
      "17. Lower bound: -1614.159252662651\n",
      "18. Lower bound: -1614.0587304408227\n",
      "19. Lower bound: -1614.049705609962\n",
      "20. Lower bound: -1614.0488992141952\n",
      "21. Lower bound: -1614.0488273276055\n",
      "22. Lower bound: -1614.0488209238601\n",
      "23. Lower bound: -1614.048820353544\n"
     ]
    },
    {
     "data": {
      "text/plain": [
       "0"
      ]
     },
     "execution_count": 5,
     "metadata": {},
     "output_type": "execute_result"
    }
   ],
   "source": [
    "gmm.solve(mixture_)"
   ]
  },
  {
   "cell_type": "markdown",
   "metadata": {},
   "source": [
    "### 结果分析 "
   ]
  },
  {
   "cell_type": "code",
   "execution_count": 6,
   "metadata": {},
   "outputs": [
    {
     "data": {
      "text/plain": [
       "array([0.60015477, 0.39984523])"
      ]
     },
     "execution_count": 6,
     "metadata": {},
     "output_type": "execute_result"
    }
   ],
   "source": [
    "gmm.pi"
   ]
  },
  {
   "cell_type": "code",
   "execution_count": 7,
   "metadata": {},
   "outputs": [
    {
     "data": {
      "text/plain": [
       "array([[159.96991805,  49.24012381],\n",
       "       [169.91205492,  70.20472254]])"
      ]
     },
     "execution_count": 7,
     "metadata": {},
     "output_type": "execute_result"
    }
   ],
   "source": [
    "gmm.mu"
   ]
  },
  {
   "cell_type": "code",
   "execution_count": 8,
   "metadata": {},
   "outputs": [
    {
     "data": {
      "text/plain": [
       "array([[[17.20830932,  1.34460804],\n",
       "        [ 1.34460804, 19.85936414]],\n",
       "\n",
       "       [[24.07581662, -1.39642132],\n",
       "        [-1.39642132, 17.32223925]]])"
      ]
     },
     "execution_count": 8,
     "metadata": {},
     "output_type": "execute_result"
    }
   ],
   "source": [
    "gmm.sigma"
   ]
  },
  {
   "cell_type": "markdown",
   "metadata": {},
   "source": [
    "从得到的参数数据可以看出，GMM模型可以较为准确的地拟合出样本数据"
   ]
  }
 ],
 "metadata": {
  "kernelspec": {
   "display_name": "Python 3",
   "language": "python",
   "name": "python3"
  },
  "language_info": {
   "codemirror_mode": {
    "name": "ipython",
    "version": 3
   },
   "file_extension": ".py",
   "mimetype": "text/x-python",
   "name": "python",
   "nbconvert_exporter": "python",
   "pygments_lexer": "ipython3",
   "version": "3.6.7"
  }
 },
 "nbformat": 4,
 "nbformat_minor": 2
}
