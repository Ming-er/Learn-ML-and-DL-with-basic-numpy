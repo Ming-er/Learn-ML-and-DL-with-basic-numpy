{
 "cells": [
  {
   "cell_type": "markdown",
   "metadata": {},
   "source": [
    "### 对贝叶斯分类器性能的简单评估 "
   ]
  },
  {
   "cell_type": "code",
   "execution_count": 1,
   "metadata": {
    "ExecuteTime": {
     "end_time": "2019-09-27T00:38:35.287094Z",
     "start_time": "2019-09-27T00:38:33.246868Z"
    }
   },
   "outputs": [],
   "source": [
    "import Bayes\n",
    "import numpy as np\n",
    "from sklearn.datasets import load_iris\n",
    "from sklearn.model_selection import train_test_split"
   ]
  },
  {
   "cell_type": "markdown",
   "metadata": {},
   "source": [
    "### 使用高斯朴素贝叶斯分类器对鸢尾花数据集进行分类"
   ]
  },
  {
   "cell_type": "code",
   "execution_count": 2,
   "metadata": {
    "ExecuteTime": {
     "end_time": "2019-09-27T00:38:35.306604Z",
     "start_time": "2019-09-27T00:38:35.292967Z"
    }
   },
   "outputs": [],
   "source": [
    "gnb=Bayes.GaussianNaiveBayes()\n",
    "data=load_iris()"
   ]
  },
  {
   "cell_type": "code",
   "execution_count": 3,
   "metadata": {
    "ExecuteTime": {
     "end_time": "2019-09-27T00:38:35.325252Z",
     "start_time": "2019-09-27T00:38:35.311596Z"
    }
   },
   "outputs": [],
   "source": [
    "feature=data['data']\n",
    "target=data['target']\n",
    "X_train, X_test, y_train, y_test = train_test_split(\n",
    "    feature, target, test_size=0.33, random_state=42)"
   ]
  },
  {
   "cell_type": "code",
   "execution_count": 4,
   "metadata": {
    "ExecuteTime": {
     "end_time": "2019-09-27T00:38:35.351191Z",
     "start_time": "2019-09-27T00:38:35.330248Z"
    }
   },
   "outputs": [],
   "source": [
    "gnb.fit(X_train.T,y_train)\n",
    "res=gnb.predict(X_test)"
   ]
  },
  {
   "cell_type": "markdown",
   "metadata": {},
   "source": [
    "### 评估分类器的性能 "
   ]
  },
  {
   "cell_type": "code",
   "execution_count": 5,
   "metadata": {
    "ExecuteTime": {
     "end_time": "2019-09-27T00:38:35.384100Z",
     "start_time": "2019-09-27T00:38:35.357172Z"
    }
   },
   "outputs": [
    {
     "name": "stdout",
     "output_type": "stream",
     "text": [
      "              precision    recall  f1-score   support\n",
      "\n",
      "      setosa       1.00      1.00      1.00        19\n",
      "  versicolor       1.00      0.80      0.89        15\n",
      "   virginica       0.84      1.00      0.91        16\n",
      "\n",
      "    accuracy                           0.94        50\n",
      "   macro avg       0.95      0.93      0.93        50\n",
      "weighted avg       0.95      0.94      0.94        50\n",
      "\n"
     ]
    }
   ],
   "source": [
    "from sklearn.metrics import classification_report\n",
    "print(classification_report(y_test, res, labels=None, target_names=['setosa','versicolor','virginica'], digits=2))"
   ]
  },
  {
   "cell_type": "markdown",
   "metadata": {},
   "source": [
    "从准确率、召回率等指标来看，手写的高斯朴素贝叶斯可以胜任简单的分类任务"
   ]
  }
 ],
 "metadata": {
  "kernelspec": {
   "display_name": "Python 3",
   "language": "python",
   "name": "python3"
  },
  "language_info": {
   "codemirror_mode": {
    "name": "ipython",
    "version": 3
   },
   "file_extension": ".py",
   "mimetype": "text/x-python",
   "name": "python",
   "nbconvert_exporter": "python",
   "pygments_lexer": "ipython3",
   "version": "3.6.7"
  }
 },
 "nbformat": 4,
 "nbformat_minor": 2
}
